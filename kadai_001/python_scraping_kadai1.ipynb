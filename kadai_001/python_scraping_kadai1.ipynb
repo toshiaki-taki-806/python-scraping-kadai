{
  "nbformat": 4,
  "nbformat_minor": 0,
  "metadata": {
    "colab": {
      "provenance": []
    },
    "kernelspec": {
      "name": "python3",
      "display_name": "Python 3"
    },
    "language_info": {
      "name": "python"
    }
  },
  "cells": [
    {
      "cell_type": "code",
      "execution_count": 3,
      "metadata": {
        "colab": {
          "base_uri": "https://localhost:8080/"
        },
        "id": "qNBb2YBwAPzb",
        "outputId": "9bcee9f0-ab7b-4b0b-b812-b2c6562b50fa"
      },
      "outputs": [
        {
          "output_type": "stream",
          "name": "stdout",
          "text": [
            "Requirement already satisfied: requests in /usr/local/lib/python3.10/dist-packages (2.32.3)\n",
            "Requirement already satisfied: beautifulsoup4 in /usr/local/lib/python3.10/dist-packages (4.12.3)\n",
            "Requirement already satisfied: charset-normalizer<4,>=2 in /usr/local/lib/python3.10/dist-packages (from requests) (3.4.0)\n",
            "Requirement already satisfied: idna<4,>=2.5 in /usr/local/lib/python3.10/dist-packages (from requests) (3.10)\n",
            "Requirement already satisfied: urllib3<3,>=1.21.1 in /usr/local/lib/python3.10/dist-packages (from requests) (2.2.3)\n",
            "Requirement already satisfied: certifi>=2017.4.17 in /usr/local/lib/python3.10/dist-packages (from requests) (2024.8.30)\n",
            "Requirement already satisfied: soupsieve>1.2 in /usr/local/lib/python3.10/dist-packages (from beautifulsoup4) (2.6)\n"
          ]
        }
      ],
      "source": [
        "!pip install requests beautifulsoup4"
      ]
    },
    {
      "cell_type": "code",
      "source": [
        "import requests\n",
        "from bs4 import BeautifulSoup\n"
      ],
      "metadata": {
        "id": "IMC2_nCRCmg4"
      },
      "execution_count": 4,
      "outputs": []
    },
    {
      "cell_type": "code",
      "source": [
        "url = \"https://news.yahoo.co.jp/articles/4adcd5df6371b556767d134d96868b607bd965d4\"\n",
        "response = requests.get(url)\n",
        "soup = BeautifulSoup(response.text, 'html.parser')\n"
      ],
      "metadata": {
        "id": "uVRt41VLCrkO"
      },
      "execution_count": 18,
      "outputs": []
    },
    {
      "cell_type": "code",
      "source": [
        "article_element = soup.select_one('#uamods > div > div > p')\n"
      ],
      "metadata": {
        "id": "FJ-3Ief5DDnf"
      },
      "execution_count": 21,
      "outputs": []
    },
    {
      "cell_type": "code",
      "source": [
        "article_text = article_element.text\n",
        "print(article_text)"
      ],
      "metadata": {
        "colab": {
          "base_uri": "https://localhost:8080/"
        },
        "id": "2zUzdQ11Ez6Q",
        "outputId": "551a91ed-1c33-444c-c431-90b88737a689"
      },
      "execution_count": 23,
      "outputs": [
        {
          "output_type": "stream",
          "name": "stdout",
          "text": [
            "　自民党の岸田文雄前首相は23日、甲府市内で講演し、衆院選での敗北について「政治とカネの問題で国民の厳しい目が引き続きわれわれに注がれているということだ」と指摘した。\n",
            "\n",
            "【ひと目でわかる】石破内閣の顔触れ\n",
            "\n",
            "　その上で「石破茂首相には一つ一つ取り組みを積み重ね、歯を食いしばって信頼回復に努めてもらわなければならない」とハッパを掛けた。\n",
            "\n",
            "　岸田氏は「何をやっても厳しい批判を浴び続ける。総理総裁は批判を受け続ける立場にある。信頼回復は甘いものではない」と強調した。　\n"
          ]
        }
      ]
    }
  ]
}