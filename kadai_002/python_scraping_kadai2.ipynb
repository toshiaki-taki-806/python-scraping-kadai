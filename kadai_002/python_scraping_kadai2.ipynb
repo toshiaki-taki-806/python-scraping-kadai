{
  "nbformat": 4,
  "nbformat_minor": 0,
  "metadata": {
    "colab": {
      "provenance": []
    },
    "kernelspec": {
      "name": "python3",
      "display_name": "Python 3"
    },
    "language_info": {
      "name": "python"
    }
  },
  "cells": [
    {
      "cell_type": "code",
      "source": [
        "!pip install requests\n"
      ],
      "metadata": {
        "colab": {
          "base_uri": "https://localhost:8080/"
        },
        "id": "--SGePz4PvKP",
        "outputId": "6ba12d3d-d9f9-41ed-a206-d32269461c52"
      },
      "execution_count": 127,
      "outputs": [
        {
          "output_type": "stream",
          "name": "stdout",
          "text": [
            "Requirement already satisfied: requests in /usr/local/lib/python3.10/dist-packages (2.32.3)\n",
            "Requirement already satisfied: charset-normalizer<4,>=2 in /usr/local/lib/python3.10/dist-packages (from requests) (3.4.0)\n",
            "Requirement already satisfied: idna<4,>=2.5 in /usr/local/lib/python3.10/dist-packages (from requests) (3.10)\n",
            "Requirement already satisfied: urllib3<3,>=1.21.1 in /usr/local/lib/python3.10/dist-packages (from requests) (2.2.3)\n",
            "Requirement already satisfied: certifi>=2017.4.17 in /usr/local/lib/python3.10/dist-packages (from requests) (2024.8.30)\n"
          ]
        }
      ]
    },
    {
      "cell_type": "code",
      "source": [
        "import requests\n",
        "import pprint\n",
        "from getpass import getpass\n"
      ],
      "metadata": {
        "id": "ugzILsrjP5Cx"
      },
      "execution_count": 128,
      "outputs": []
    },
    {
      "cell_type": "code",
      "source": [
        "api_key = getpass('APIのキーを入力してください：')\n"
      ],
      "metadata": {
        "colab": {
          "base_uri": "https://localhost:8080/"
        },
        "id": "rvSCyH2OP-Hp",
        "outputId": "7743dae4-7271-489f-fec3-b8a27a909ce5"
      },
      "execution_count": 129,
      "outputs": [
        {
          "name": "stdout",
          "output_type": "stream",
          "text": [
            "APIのキーを入力してください：··········\n"
          ]
        }
      ]
    },
    {
      "cell_type": "code",
      "source": [
        "search_word = input('検索キーワードを入力してください：')"
      ],
      "metadata": {
        "colab": {
          "base_uri": "https://localhost:8080/"
        },
        "id": "ii_EvMtbQIk7",
        "outputId": "1cb689ac-6452-4ebd-c435-b5258b3ff4a1"
      },
      "execution_count": 130,
      "outputs": [
        {
          "name": "stdout",
          "output_type": "stream",
          "text": [
            "検索キーワードを入力してください：東京駅\n"
          ]
        }
      ]
    },
    {
      "cell_type": "code",
      "source": [
        "url = 'https://maps.googleapis.com/maps/api/geocode/json'\n",
        "\n",
        "response = requests.get(\n",
        "    url,\n",
        "    params={\n",
        "        'key': api_key,\n",
        "        'address': search_word\n",
        "    }\n",
        ")\n"
      ],
      "metadata": {
        "id": "PmXXfGxrQV24"
      },
      "execution_count": 131,
      "outputs": []
    },
    {
      "cell_type": "code",
      "source": [
        "json_data = response.json()"
      ],
      "metadata": {
        "id": "TcN_SZ1NRh1h"
      },
      "execution_count": 132,
      "outputs": []
    },
    {
      "cell_type": "code",
      "source": [
        "pprint.pprint(json_data['results'][0]['geometry']['location']['lat'])\n",
        "pprint.pprint(json_data['results'][0]['geometry']['location']['lng'])\n",
        "lat = json_data['results'][0]['geometry']['location']['lat']\n",
        "lng = json_data['results'][0]['geometry']['location']['lng']\n",
        "rad = 500\n",
        "ser_type = 'restaurant'\n"
      ],
      "metadata": {
        "colab": {
          "base_uri": "https://localhost:8080/"
        },
        "id": "uOp6HnZzSK9D",
        "outputId": "62e2298c-86d1-45c4-96e1-2c1665725ea9"
      },
      "execution_count": 133,
      "outputs": [
        {
          "output_type": "stream",
          "name": "stdout",
          "text": [
            "35.68123620000001\n",
            "139.7671248\n"
          ]
        }
      ]
    },
    {
      "cell_type": "code",
      "source": [
        "url2 = f\"https://maps.googleapis.com/maps/api/place/nearbysearch/json?location={lat}%2C{lng}&radius={rad}&type={ser_type}&language=ja&key={api_key}\"\n",
        "\n",
        "payload={}\n",
        "headers = {}\n",
        "\n",
        "response2 = requests.request(\"GET\", url2, headers=headers, data=payload)\n"
      ],
      "metadata": {
        "id": "9CR0h7gAR5MO"
      },
      "execution_count": 134,
      "outputs": []
    },
    {
      "cell_type": "code",
      "source": [
        "json_data2 = response2.json()\n",
        "for result in json_data2['results']:\n",
        "    name = result['name']\n",
        "    rate = result['rating']\n",
        "    address = result['vicinity']\n",
        "    print(f'{name} {rate} {address}')\n"
      ],
      "metadata": {
        "colab": {
          "base_uri": "https://localhost:8080/"
        },
        "id": "RHctHF7kq1mv",
        "outputId": "6f522b90-7f75-42ce-9aed-4f1e899215b1"
      },
      "execution_count": 135,
      "outputs": [
        {
          "output_type": "stream",
          "name": "stdout",
          "text": [
            "シャングリ・ラ 東京 4.5 千代田区丸の内１丁目８−３ 丸の内トラストタワー 本館\n",
            "BAR de ESPANA Muy 3.2 TOKIA, 2F, ２丁目-７−３ 丸の内, 千代田区\n",
            "サイアムヘリテイジ東京 4.1 千代田区丸の内１丁目５−１ 新丸の内ビルディング 6F\n",
            "ブラッスリー・ヴィロン 丸の内店 4 TOKIA, 1F 東京ビル, ２丁目-７−３ 丸の内, 千代田区\n",
            "大丸東京店 4 千代田区丸の内１丁目９−１\n",
            "丸の内一丁目 しち十二候 4 千代田区丸の内１丁目９−１ 東京ステーションホテル B1F\n",
            "招福樓 東京店 4.3 千代田区丸の内２丁目４−１ 丸の内ビルディング 36F\n",
            "ブリーズ・オブ・トウキョウ 丸の内店 4.1 千代田区丸の内２丁目４−１ 丸の内ビルディング 36F\n",
            "ポム・ダダン 4.2 千代田区丸の内１丁目６−３\n",
            "鉄板焼 天 本丸 4.2 千代田区丸の内１丁目５−１ 新丸の内ビルディング 5F\n",
            "TORAYA TOKYO 4.3 千代田区丸の内１丁目９−１ 東京ステーションホテル 2F\n",
            "なだ万 シャングリ・ラ 東京 4.3 千代田区丸の内１丁目８−３ 丸の内トラストタワー 本館 29階\n",
            "PIACERE 3.9 千代田区丸の内１丁目８−３ 28階\n",
            "酒亭 神田新八 3.7 千代田区丸の内１丁目５−１ 新丸の内ビルディング 5F\n",
            "駅弁屋 祭 グランスタ東京 4.1 千代田区丸の内１丁目９−１ グランスタ東京内 1F 中央通路 エリア改札内\n",
            "駒形前川 新丸ビル店 3.8 千代田区丸の内１丁目５−１ 新丸の内ビルディング 5F\n",
            "全席個室ウメ子の家 日本橋八重洲店 3.8 中央区日本橋２丁目３−１８ 江間忠さくらビル 3F\n",
            "酢重正之 楽 3.7 千代田区丸の内１丁目５−１ 新丸の内ビルディング B1\n",
            "イータリー 丸の内店 4 千代田区丸の内１丁目９−１ JR東日本東京駅 B1\n",
            "豚捨 3.9 千代田区丸の内２丁目７−２ KITTE ５F ７−２\n"
          ]
        }
      ]
    }
  ]
}